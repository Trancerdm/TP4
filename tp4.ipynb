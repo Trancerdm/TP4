{
 "cells": [
  {
   "cell_type": "markdown",
   "metadata": {},
   "source": [
    "TP4"
   ]
  },
  {
   "cell_type": "markdown",
   "metadata": {},
   "source": [
    "Exercice 1: \n",
    "1. Qu’est-ce qu’un bot?\n",
    "Un bot informatique est un agent logiciel automatique qui interagit avec des serveurs informatiques.\n",
    "\n",
    "2. Qu'est ce que le logging. À quoi servent les logs\n",
    "Le logging est la gestion des logs. Les logs sont des inscriptions dans un fichier des differents évènements en relation avec notre server. \n",
    "\n"
   ]
  }
 ],
 "metadata": {
  "language_info": {
   "name": "python"
  },
  "orig_nbformat": 4
 },
 "nbformat": 4,
 "nbformat_minor": 2
}
